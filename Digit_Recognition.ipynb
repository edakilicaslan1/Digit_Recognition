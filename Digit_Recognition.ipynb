{
  "nbformat": 4,
  "nbformat_minor": 0,
  "metadata": {
    "colab": {
      "name": "Digit Recognition.ipynb",
      "provenance": [],
      "collapsed_sections": [],
      "authorship_tag": "ABX9TyPPuho59sFnxg9UKytDSTt8",
      "include_colab_link": true
    },
    "kernelspec": {
      "name": "python3",
      "display_name": "Python 3"
    },
    "language_info": {
      "name": "python"
    }
  },
  "cells": [
    {
      "cell_type": "markdown",
      "metadata": {
        "id": "view-in-github",
        "colab_type": "text"
      },
      "source": [
        "<a href=\"https://colab.research.google.com/github/edakilicaslan1/Digit_Recognition/blob/main/Digit_Recognition.ipynb\" target=\"_parent\"><img src=\"https://colab.research.google.com/assets/colab-badge.svg\" alt=\"Open In Colab\"/></a>"
      ]
    },
    {
      "cell_type": "code",
      "metadata": {
        "id": "Ap-o2ePI5DMX"
      },
      "source": [
        "#Importing libraries\n",
        "import keras\n",
        "import numpy as np\n",
        "import matplotlib.pyplot as plt"
      ],
      "execution_count": 16,
      "outputs": []
    },
    {
      "cell_type": "code",
      "metadata": {
        "id": "epdKSjNuqZGC"
      },
      "source": [
        "from keras.datasets import mnist\n",
        "from keras.models import Sequential, load_model\n",
        "from keras.layers.core import Dense, Activation, Dropout\n",
        "from keras.utils import np_utils"
      ],
      "execution_count": 5,
      "outputs": []
    },
    {
      "cell_type": "code",
      "metadata": {
        "id": "qWxOM68wq6cz"
      },
      "source": [
        "model = Sequential()"
      ],
      "execution_count": 6,
      "outputs": []
    },
    {
      "cell_type": "code",
      "metadata": {
        "id": "3F5JytvPuVsA"
      },
      "source": [
        "#Adding input layer"
      ],
      "execution_count": 14,
      "outputs": []
    },
    {
      "cell_type": "code",
      "metadata": {
        "id": "GcoT7asbtXs1"
      },
      "source": [
        "model.add(Dense(512, input_shape = (784,)))"
      ],
      "execution_count": 8,
      "outputs": []
    },
    {
      "cell_type": "code",
      "metadata": {
        "id": "Yc_HrivFtjPH"
      },
      "source": [
        "model.add(Activation('relu'))"
      ],
      "execution_count": 9,
      "outputs": []
    },
    {
      "cell_type": "code",
      "metadata": {
        "id": "yrj9BcW2trrI"
      },
      "source": [
        "model.add(Dropout(0.2))"
      ],
      "execution_count": 10,
      "outputs": []
    },
    {
      "cell_type": "code",
      "metadata": {
        "id": "RPKBX4zkuaHp"
      },
      "source": [
        "#Adding hidden layer"
      ],
      "execution_count": 15,
      "outputs": []
    },
    {
      "cell_type": "code",
      "metadata": {
        "id": "IzJEKkZPtx6S"
      },
      "source": [
        "model.add(Dense(512))"
      ],
      "execution_count": 11,
      "outputs": []
    },
    {
      "cell_type": "code",
      "metadata": {
        "id": "e9F2jEgXt2u6"
      },
      "source": [
        "model.add(Activation('relu'))"
      ],
      "execution_count": 12,
      "outputs": []
    },
    {
      "cell_type": "code",
      "metadata": {
        "id": "KYsm7pzxt7FP"
      },
      "source": [
        "model.add(Dropout(0.2))"
      ],
      "execution_count": 13,
      "outputs": []
    },
    {
      "cell_type": "code",
      "metadata": {
        "id": "a-6Pb8WuuA5t"
      },
      "source": [
        "#Adding output layer"
      ],
      "execution_count": 17,
      "outputs": []
    },
    {
      "cell_type": "code",
      "metadata": {
        "id": "jgmynRUMulV6"
      },
      "source": [
        "model.add(Dense(10))"
      ],
      "execution_count": 18,
      "outputs": []
    },
    {
      "cell_type": "code",
      "metadata": {
        "id": "DeqxPYaqwRXc"
      },
      "source": [
        "model.add(Activation('softmax'))"
      ],
      "execution_count": 19,
      "outputs": []
    },
    {
      "cell_type": "code",
      "metadata": {
        "id": "_3cElv9KwgAy"
      },
      "source": [
        "#Compiling the model"
      ],
      "execution_count": 20,
      "outputs": []
    },
    {
      "cell_type": "code",
      "metadata": {
        "id": "YbHRH_luw5ha"
      },
      "source": [
        "model.compile(loss = 'categorical_crossentropy',metrics = ['accuracy'],\n",
        "              optimizer = 'adam')"
      ],
      "execution_count": 21,
      "outputs": []
    },
    {
      "cell_type": "code",
      "metadata": {
        "id": "j6ggs-WIxtA0"
      },
      "source": [
        "#Loading data"
      ],
      "execution_count": 22,
      "outputs": []
    },
    {
      "cell_type": "code",
      "metadata": {
        "colab": {
          "base_uri": "https://localhost:8080/"
        },
        "id": "ciH-nNY7xOAm",
        "outputId": "b5993362-340d-4d43-bd1b-e8a7f1b006fc"
      },
      "source": [
        "(x_train, y_train), (x_test, y_test) = mnist.load_data()"
      ],
      "execution_count": 23,
      "outputs": [
        {
          "output_type": "stream",
          "text": [
            "Downloading data from https://storage.googleapis.com/tensorflow/tf-keras-datasets/mnist.npz\n",
            "11493376/11490434 [==============================] - 0s 0us/step\n",
            "11501568/11490434 [==============================] - 0s 0us/step\n"
          ],
          "name": "stdout"
        }
      ]
    },
    {
      "cell_type": "code",
      "metadata": {
        "colab": {
          "base_uri": "https://localhost:8080/",
          "height": 284
        },
        "id": "9Z0S9JQhx0la",
        "outputId": "b038d0ce-22a4-42cd-d7cd-bddf2f5db695"
      },
      "source": [
        "for i in range(20):\n",
        "   plt.subplot(4,5,i+1)\n",
        "   plt.tight_layout()\n",
        "   plt.imshow(x_train[i], cmap='gray', interpolation='none')\n",
        "   plt.title(\"Digit: {}\".format(y_train[i]))\n",
        "   plt.xticks([])\n",
        "   plt.yticks([])"
      ],
      "execution_count": 30,
      "outputs": [
        {
          "output_type": "display_data",
          "data": {
            "image/png": "[encoded data removed]",
            "text/plain": [
              "<Figure size 432x288 with 20 Axes>"
            ]
          },
          "metadata": {
            "tags": []
          }
        }
      ]
    },
    {
      "cell_type": "code",
      "metadata": {
        "id": "li8LIQ5RyK4l"
      },
      "source": [
        "#Reshaping input vector"
      ],
      "execution_count": 31,
      "outputs": []
    },
    {
      "cell_type": "code",
      "metadata": {
        "id": "i8vqvp8W0HRF"
      },
      "source": [
        "x_train = x_train.reshape(60000, 784)\n",
        "x_test = x_test.reshape(10000, 784)"
      ],
      "execution_count": 32,
      "outputs": []
    },
    {
      "cell_type": "code",
      "metadata": {
        "id": "OCXrRJ_M0UJg"
      },
      "source": [
        "#Normalizing data"
      ],
      "execution_count": 33,
      "outputs": []
    },
    {
      "cell_type": "code",
      "metadata": {
        "id": "escbJYLC0ZHW"
      },
      "source": [
        "x_train = x_train.astype('float32')\n",
        "x_test =  x_test.astype('float32')\n",
        "x_train /= 255\n",
        "x_test /= 255"
      ],
      "execution_count": 34,
      "outputs": []
    },
    {
      "cell_type": "code",
      "metadata": {
        "colab": {
          "base_uri": "https://localhost:8080/"
        },
        "id": "4wVNRE-E0pk9",
        "outputId": "dab27b7e-65c1-4597-fec4-8a336181e857"
      },
      "source": [
        "x_train[:10]"
      ],
      "execution_count": 35,
      "outputs": [
        {
          "output_type": "execute_result",
          "data": {
            "text/plain": [
              "array([[0., 0., 0., ..., 0., 0., 0.],\n",
              "       [0., 0., 0., ..., 0., 0., 0.],\n",
              "       [0., 0., 0., ..., 0., 0., 0.],\n",
              "       ...,\n",
              "       [0., 0., 0., ..., 0., 0., 0.],\n",
              "       [0., 0., 0., ..., 0., 0., 0.],\n",
              "       [0., 0., 0., ..., 0., 0., 0.]], dtype=float32)"
            ]
          },
          "metadata": {
            "tags": []
          },
          "execution_count": 35
        }
      ]
    },
    {
      "cell_type": "code",
      "metadata": {
        "colab": {
          "base_uri": "https://localhost:8080/"
        },
        "id": "lz2ByE6p0raj",
        "outputId": "856b308c-2b1a-422c-a8fa-45d971084a97"
      },
      "source": [
        "x_test[:10]"
      ],
      "execution_count": 36,
      "outputs": [
        {
          "output_type": "execute_result",
          "data": {
            "text/plain": [
              "array([[0., 0., 0., ..., 0., 0., 0.],\n",
              "       [0., 0., 0., ..., 0., 0., 0.],\n",
              "       [0., 0., 0., ..., 0., 0., 0.],\n",
              "       ...,\n",
              "       [0., 0., 0., ..., 0., 0., 0.],\n",
              "       [0., 0., 0., ..., 0., 0., 0.],\n",
              "       [0., 0., 0., ..., 0., 0., 0.]], dtype=float32)"
            ]
          },
          "metadata": {
            "tags": []
          },
          "execution_count": 36
        }
      ]
    },
    {
      "cell_type": "code",
      "metadata": {
        "colab": {
          "base_uri": "https://localhost:8080/",
          "height": 265
        },
        "id": "h0xPMhc00uIa",
        "outputId": "0356a5cf-78cb-4033-f155-10b762171dce"
      },
      "source": [
        "plt.hist(x_train[0]);"
      ],
      "execution_count": 39,
      "outputs": [
        {
          "output_type": "display_data",
          "data": {
            "image/png": "[encoded data removed]",
            "text/plain": [
              "<Figure size 432x288 with 1 Axes>"
            ]
          },
          "metadata": {
            "tags": [],
            "needs_background": "light"
          }
        }
      ]
    },
    {
      "cell_type": "code",
      "metadata": {
        "colab": {
          "base_uri": "https://localhost:8080/",
          "height": 269
        },
        "id": "hCMtJqU_01qT",
        "outputId": "4138ce3e-082d-4e48-9612-ba24784ec1d8"
      },
      "source": [
        "plt.hist(x_train[2]);"
      ],
      "execution_count": 40,
      "outputs": [
        {
          "output_type": "display_data",
          "data": {
            "image/png": "[encoded data removed]",
            "text/plain": [
              "<Figure size 432x288 with 1 Axes>"
            ]
          },
          "metadata": {
            "tags": [],
            "needs_background": "light"
          }
        }
      ]
    },
    {
      "cell_type": "code",
      "metadata": {
        "id": "6s6Qmr2K1EaN"
      },
      "source": [
        "#Examining data distribution"
      ],
      "execution_count": 43,
      "outputs": []
    },
    {
      "cell_type": "code",
      "metadata": {
        "colab": {
          "base_uri": "https://localhost:8080/"
        },
        "id": "o9qlsmtC2FQA",
        "outputId": "d33bd421-3435-4388-faa6-0b4798f02712"
      },
      "source": [
        "print(np.unique(y_train, return_counts = True))"
      ],
      "execution_count": 44,
      "outputs": [
        {
          "output_type": "stream",
          "text": [
            "(array([0, 1, 2, 3, 4, 5, 6, 7, 8, 9], dtype=uint8), array([5923, 6742, 5958, 6131, 5842, 5421, 5918, 6265, 5851, 5949]))\n"
          ],
          "name": "stdout"
        }
      ]
    },
    {
      "cell_type": "code",
      "metadata": {
        "id": "cSRMx5wA2MK2"
      },
      "source": [
        "#There are 5923 pieces of digit 0, 6742 pieces of digit 1 and so on."
      ],
      "execution_count": 46,
      "outputs": []
    },
    {
      "cell_type": "code",
      "metadata": {
        "id": "z_BQj6UJ2ncP"
      },
      "source": [
        "#Encoding data"
      ],
      "execution_count": 47,
      "outputs": []
    },
    {
      "cell_type": "code",
      "metadata": {
        "id": "pz4XY4P22t2H"
      },
      "source": [
        "classes = 10\n",
        "y_train = np_utils.to_categorical(y_train, classes)"
      ],
      "execution_count": 49,
      "outputs": []
    },
    {
      "cell_type": "code",
      "metadata": {
        "colab": {
          "base_uri": "https://localhost:8080/"
        },
        "id": "H7dUXmeq245o",
        "outputId": "4c77ec27-474d-4c4b-901c-2792bd3dcf0d"
      },
      "source": [
        "for i in range(10):\n",
        "  print(y_train[i])"
      ],
      "execution_count": 50,
      "outputs": [
        {
          "output_type": "stream",
          "text": [
            "[0. 0. 0. 0. 0. 1. 0. 0. 0. 0.]\n",
            "[1. 0. 0. 0. 0. 0. 0. 0. 0. 0.]\n",
            "[0. 0. 0. 0. 1. 0. 0. 0. 0. 0.]\n",
            "[0. 1. 0. 0. 0. 0. 0. 0. 0. 0.]\n",
            "[0. 0. 0. 0. 0. 0. 0. 0. 0. 1.]\n",
            "[0. 0. 1. 0. 0. 0. 0. 0. 0. 0.]\n",
            "[0. 1. 0. 0. 0. 0. 0. 0. 0. 0.]\n",
            "[0. 0. 0. 1. 0. 0. 0. 0. 0. 0.]\n",
            "[0. 1. 0. 0. 0. 0. 0. 0. 0. 0.]\n",
            "[0. 0. 0. 0. 1. 0. 0. 0. 0. 0.]\n"
          ],
          "name": "stdout"
        }
      ]
    },
    {
      "cell_type": "code",
      "metadata": {
        "id": "ereFCAKA3Ai0"
      },
      "source": [
        "y_test = np_utils.to_categorical(y_test, classes)"
      ],
      "execution_count": 51,
      "outputs": []
    },
    {
      "cell_type": "code",
      "metadata": {
        "colab": {
          "base_uri": "https://localhost:8080/"
        },
        "id": "MOPCTY6g3cDa",
        "outputId": "c78f1a14-9f39-4f7e-bc89-9dc6d98ddf50"
      },
      "source": [
        "for i in range(10):\n",
        "  print(y_test[i])"
      ],
      "execution_count": 52,
      "outputs": [
        {
          "output_type": "stream",
          "text": [
            "[0. 0. 0. 0. 0. 0. 0. 1. 0. 0.]\n",
            "[0. 0. 1. 0. 0. 0. 0. 0. 0. 0.]\n",
            "[0. 1. 0. 0. 0. 0. 0. 0. 0. 0.]\n",
            "[1. 0. 0. 0. 0. 0. 0. 0. 0. 0.]\n",
            "[0. 0. 0. 0. 1. 0. 0. 0. 0. 0.]\n",
            "[0. 1. 0. 0. 0. 0. 0. 0. 0. 0.]\n",
            "[0. 0. 0. 0. 1. 0. 0. 0. 0. 0.]\n",
            "[0. 0. 0. 0. 0. 0. 0. 0. 0. 1.]\n",
            "[0. 0. 0. 0. 0. 1. 0. 0. 0. 0.]\n",
            "[0. 0. 0. 0. 0. 0. 0. 0. 0. 1.]\n"
          ],
          "name": "stdout"
        }
      ]
    },
    {
      "cell_type": "code",
      "metadata": {
        "id": "RqVYcDfo3gfZ"
      },
      "source": [
        "#Training the model"
      ],
      "execution_count": 53,
      "outputs": []
    },
    {
      "cell_type": "code",
      "metadata": {
        "colab": {
          "base_uri": "https://localhost:8080/"
        },
        "id": "op36LK8p3our",
        "outputId": "0ce4cb8e-d28a-4695-9030-87c6b9a2db48"
      },
      "source": [
        "df = model.fit(x_train, y_train,batch_size = 128,\n",
        "               epochs = 20, verbose = 2,\n",
        "               validation_data = (x_test,y_test))"
      ],
      "execution_count": 54,
      "outputs": [
        {
          "output_type": "stream",
          "text": [
            "Epoch 1/20\n",
            "469/469 - 24s - loss: 0.2408 - accuracy: 0.9260 - val_loss: 0.1210 - val_accuracy: 0.9613\n",
            "Epoch 2/20\n",
            "469/469 - 8s - loss: 0.1183 - accuracy: 0.9634 - val_loss: 0.0955 - val_accuracy: 0.9681\n",
            "Epoch 3/20\n",
            "469/469 - 9s - loss: 0.0917 - accuracy: 0.9717 - val_loss: 0.0703 - val_accuracy: 0.9781\n",
            "Epoch 4/20\n",
            "469/469 - 9s - loss: 0.0764 - accuracy: 0.9759 - val_loss: 0.0973 - val_accuracy: 0.9720\n",
            "Epoch 5/20\n",
            "469/469 - 8s - loss: 0.0709 - accuracy: 0.9775 - val_loss: 0.0919 - val_accuracy: 0.9738\n",
            "Epoch 6/20\n",
            "469/469 - 9s - loss: 0.0627 - accuracy: 0.9798 - val_loss: 0.0691 - val_accuracy: 0.9778\n",
            "Epoch 7/20\n",
            "469/469 - 9s - loss: 0.0566 - accuracy: 0.9825 - val_loss: 0.0732 - val_accuracy: 0.9791\n",
            "Epoch 8/20\n",
            "469/469 - 9s - loss: 0.0525 - accuracy: 0.9834 - val_loss: 0.0712 - val_accuracy: 0.9801\n",
            "Epoch 9/20\n",
            "469/469 - 9s - loss: 0.0514 - accuracy: 0.9837 - val_loss: 0.0813 - val_accuracy: 0.9797\n",
            "Epoch 10/20\n",
            "469/469 - 9s - loss: 0.0471 - accuracy: 0.9848 - val_loss: 0.0721 - val_accuracy: 0.9804\n",
            "Epoch 11/20\n",
            "469/469 - 9s - loss: 0.0506 - accuracy: 0.9840 - val_loss: 0.0717 - val_accuracy: 0.9811\n",
            "Epoch 12/20\n",
            "469/469 - 9s - loss: 0.0454 - accuracy: 0.9853 - val_loss: 0.0849 - val_accuracy: 0.9793\n",
            "Epoch 13/20\n",
            "469/469 - 9s - loss: 0.0469 - accuracy: 0.9856 - val_loss: 0.1170 - val_accuracy: 0.9733\n",
            "Epoch 14/20\n",
            "469/469 - 9s - loss: 0.0466 - accuracy: 0.9855 - val_loss: 0.0827 - val_accuracy: 0.9782\n",
            "Epoch 15/20\n",
            "469/469 - 9s - loss: 0.0433 - accuracy: 0.9868 - val_loss: 0.0857 - val_accuracy: 0.9803\n",
            "Epoch 16/20\n",
            "469/469 - 9s - loss: 0.0412 - accuracy: 0.9877 - val_loss: 0.0966 - val_accuracy: 0.9781\n",
            "Epoch 17/20\n",
            "469/469 - 9s - loss: 0.0389 - accuracy: 0.9878 - val_loss: 0.0976 - val_accuracy: 0.9787\n",
            "Epoch 18/20\n",
            "469/469 - 9s - loss: 0.0388 - accuracy: 0.9885 - val_loss: 0.1019 - val_accuracy: 0.9800\n",
            "Epoch 19/20\n",
            "469/469 - 9s - loss: 0.0396 - accuracy: 0.9887 - val_loss: 0.1123 - val_accuracy: 0.9773\n",
            "Epoch 20/20\n",
            "469/469 - 9s - loss: 0.0408 - accuracy: 0.9881 - val_loss: 0.1013 - val_accuracy: 0.9804\n"
          ],
          "name": "stdout"
        }
      ]
    },
    {
      "cell_type": "code",
      "metadata": {
        "id": "vtuFuVMX4AOV"
      },
      "source": [
        "#Model Performance"
      ],
      "execution_count": 55,
      "outputs": []
    },
    {
      "cell_type": "code",
      "metadata": {
        "colab": {
          "base_uri": "https://localhost:8080/"
        },
        "id": "XJSu-H0D5UYp",
        "outputId": "bdf7e756-64ca-4968-9a68-cee8245e0e94"
      },
      "source": [
        "loss_accuracy = model.evaluate(x_test, y_test, verbose = 2)"
      ],
      "execution_count": 56,
      "outputs": [
        {
          "output_type": "stream",
          "text": [
            "313/313 - 1s - loss: 0.1013 - accuracy: 0.9804\n"
          ],
          "name": "stdout"
        }
      ]
    },
    {
      "cell_type": "code",
      "metadata": {
        "id": "o8XQK6eB6D6X"
      },
      "source": [
        "#Predicting on Test Data"
      ],
      "execution_count": 63,
      "outputs": []
    },
    {
      "cell_type": "code",
      "metadata": {
        "colab": {
          "base_uri": "https://localhost:8080/"
        },
        "id": "lKu9yK157trJ",
        "outputId": "7c84a352-3d46-43df-d891-d7fec9444de8"
      },
      "source": [
        "predictions = model.predict_classes(x_test)\n",
        "predictions[:100]"
      ],
      "execution_count": 80,
      "outputs": [
        {
          "output_type": "stream",
          "text": [
            "/usr/local/lib/python3.7/dist-packages/keras/engine/sequential.py:450: UserWarning: `model.predict_classes()` is deprecated and will be removed after 2021-01-01. Please use instead:* `np.argmax(model.predict(x), axis=-1)`,   if your model does multi-class classification   (e.g. if it uses a `softmax` last-layer activation).* `(model.predict(x) > 0.5).astype(\"int32\")`,   if your model does binary classification   (e.g. if it uses a `sigmoid` last-layer activation).\n",
            "  warnings.warn('`model.predict_classes()` is deprecated and '\n"
          ],
          "name": "stderr"
        },
        {
          "output_type": "execute_result",
          "data": {
            "text/plain": [
              "array([7, 2, 1, 0, 4, 1, 4, 9, 5, 9, 0, 6, 9, 0, 1, 5, 9, 7, 3, 4, 9, 6,\n",
              "       6, 5, 4, 0, 7, 4, 0, 1, 3, 1, 3, 4, 7, 2, 7, 1, 2, 1, 1, 7, 4, 2,\n",
              "       3, 5, 1, 2, 4, 4, 6, 3, 5, 5, 6, 0, 4, 1, 9, 5, 7, 8, 9, 3, 7, 4,\n",
              "       6, 4, 3, 0, 7, 0, 2, 9, 1, 7, 3, 2, 9, 7, 7, 6, 2, 7, 8, 4, 7, 3,\n",
              "       6, 1, 3, 6, 9, 3, 1, 4, 1, 7, 6, 9])"
            ]
          },
          "metadata": {
            "tags": []
          },
          "execution_count": 80
        }
      ]
    },
    {
      "cell_type": "code",
      "metadata": {
        "id": "_I1VzD_7-Ed8"
      },
      "source": [
        ""
      ],
      "execution_count": null,
      "outputs": []
    }
  ]
}